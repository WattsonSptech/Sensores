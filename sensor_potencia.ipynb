{
 "cells": [
  {
   "cell_type": "markdown",
   "id": "b19393dd",
   "metadata": {},
   "source": [
    "### Sensor de Harmônicas\n",
    "\n",
    "Sensor Utilizado: AcuRev 2100 Multi-Circuit\n",
    "https://www.accuenergy.com/wp-content/uploads/AcuRev-2100-Multi-Circuit-Submeter-Datasheet.pdf?utm_source=chatgpt.com"
   ]
  },
  {
   "cell_type": "markdown",
   "id": "40fa81c1",
   "metadata": {},
   "source": [
    "#### Importando Bibliotecas"
   ]
  },
  {
   "cell_type": "code",
   "execution_count": 171,
   "id": "4b4c7dd0",
   "metadata": {},
   "outputs": [],
   "source": [
    "from random import uniform, randint"
   ]
  },
  {
   "cell_type": "code",
   "execution_count": 286,
   "id": "51df29e8",
   "metadata": {},
   "outputs": [
    {
     "name": "stdout",
     "output_type": "stream",
     "text": [
      "0.01\n"
     ]
    }
   ],
   "source": [
    "def get_harmonics(noise = 1):\n",
    "\n",
    "    # Noise/ruído: indica a faixa de valores que poderão ser retornados. Em situações normais, o valor da harmônica deve estar entre 0% e 5%, onde, quando maior for essa porcentagem,\n",
    "    # pior é a qualidade da energia.\n",
    "    \n",
    "    # Valores disponíveis para noise:\n",
    "    # 1 - Low\n",
    "    # 2 - Medium\n",
    "    # 3 - High\n",
    "    # 3 - Very High\n",
    "\n",
    "    if (noise == 1):\n",
    "        minimum = 0.00\n",
    "        maximum = 5.00\n",
    "    elif (noise == 2):\n",
    "        minimum = 0.00\n",
    "        maximum = 25.00\n",
    "    elif (noise == 3):\n",
    "        minimum = 0.00\n",
    "        maximum = 75.00\n",
    "    elif (noise == 4):\n",
    "        minimum = 0.00\n",
    "        maximum = 100.00\n",
    "    else:\n",
    "        print(f\"No such value ({noise}) for noise is allowed. Using default values.\") \n",
    "        minimum = 0.00\n",
    "        maximum = 5.00\n",
    "\n",
    "    accuracy = 1.0\n",
    "\n",
    "    # se o valor do random for 0, irá somar 1 no valor final da harmônica. Se for 1, irá diminuir 1 no valor final da harmônica.\n",
    "    is_accuracy_positive_or_negative = randint(0, 1)\n",
    "    \n",
    "    harmonics = accuracy + (uniform(minimum, maximum)) if is_accuracy_positive_or_negative == 0 else (uniform(minimum, maximum)) - accuracy\n",
    "\n",
    "    if(harmonics < 0):\n",
    "        harmonics = 0.01\n",
    "    if(harmonics > 100):\n",
    "        harmonics = 100.00\n",
    "\n",
    "    return round(harmonics,2)\n",
    "\n",
    "print(get_harmonics(1))\n",
    "    "
   ]
  }
 ],
 "metadata": {
  "kernelspec": {
   "display_name": "Python 3",
   "language": "python",
   "name": "python3"
  },
  "language_info": {
   "codemirror_mode": {
    "name": "ipython",
    "version": 3
   },
   "file_extension": ".py",
   "mimetype": "text/x-python",
   "name": "python",
   "nbconvert_exporter": "python",
   "pygments_lexer": "ipython3",
   "version": "3.12.0"
  }
 },
 "nbformat": 4,
 "nbformat_minor": 5
}
