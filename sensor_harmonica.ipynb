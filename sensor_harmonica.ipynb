{
 "cells": [
  {
   "cell_type": "markdown",
   "id": "b19393dd",
   "metadata": {},
   "source": [
    "### Sensor de Harmônicas\n",
    "\n",
    "Sensor Utilizado: AcuRev 2100 Multi-Circuit\n",
    "https://www.accuenergy.com/wp-content/uploads/AcuRev-2100-Multi-Circuit-Submeter-Datasheet.pdf"
   ]
  },
  {
   "cell_type": "markdown",
   "id": "40fa81c1",
   "metadata": {},
   "source": [
    "#### Importando Bibliotecas"
   ]
  },
  {
   "cell_type": "code",
   "execution_count": 3,
   "id": "4b4c7dd0",
   "metadata": {},
   "outputs": [],
   "source": [
    "from random import uniform, randint"
   ]
  },
  {
   "cell_type": "code",
   "execution_count": 4,
   "id": "51df29e8",
   "metadata": {},
   "outputs": [],
   "source": [
    "def get_harmonics(noise = 1):\n",
    "\n",
    "    # Noise/ruído: indica a faixa de valores que poderão ser retornados. Em situações normais, o valor da harmônica deve estar entre 0% e 5%, onde, quando maior for essa porcentagem,\n",
    "    # pior é a qualidade da energia.\n",
    "    \n",
    "    # Valores disponíveis para noise:\n",
    "    # 1 - Low\n",
    "    # 2 - Medium\n",
    "    # 3 - High\n",
    "    # 3 - Very High\n",
    "\n",
    "    if (noise == 1):\n",
    "        minimum = 0.00\n",
    "        maximum = 5.00\n",
    "    elif (noise == 2):\n",
    "        minimum = 0.00\n",
    "        maximum = 25.00\n",
    "    elif (noise == 3):\n",
    "        minimum = 0.00\n",
    "        maximum = 75.00\n",
    "    elif (noise == 4):\n",
    "        minimum = 0.00\n",
    "        maximum = 100.00\n",
    "    else:\n",
    "        print(f\"No such value ({noise}) for noise is allowed. Using default values.\") \n",
    "        minimum = 0.00\n",
    "        maximum = 5.00\n",
    "\n",
    "    accuracy = 1.0\n",
    "\n",
    "    # se o valor do random for 0, irá somar 1 no valor final da harmônica. Se for 1, irá diminuir 1 no valor final da harmônica.\n",
    "    is_accuracy_positive_or_negative = randint(0, 1)\n",
    "    \n",
    "    harmonics = accuracy + (uniform(minimum, maximum)) if is_accuracy_positive_or_negative == 0 else (uniform(minimum, maximum)) - accuracy\n",
    "\n",
    "    if(harmonics < 0):\n",
    "        harmonics = 0.01\n",
    "    if(harmonics > 100):\n",
    "        harmonics = 100.00\n",
    "\n",
    "    return {\n",
    "        \"valor_leitura\": round(harmonics,2),\n",
    "        \"tipo_dado\": {\n",
    "            \"nome\": \"Harmônicas\",\n",
    "            \"descricao\": \"Valor da harmônica obtido pelo sensor.\"\n",
    "        },\n",
    "        \"sensor\": {\n",
    "            \"nome\": \"AcuRev 2100 Multi-Circuit\",\n",
    "            \"fabricante\": \"AccuEnergy\",\n",
    "            \"datasheet\": \"https://www.accuenergy.com/wp-content/uploads/AcuRev-2100-Multi-Circuit-Submeter-Datasheet.pdf\"\n",
    "        }\n",
    "    }\n",
    "    "
   ]
  },
  {
   "cell_type": "code",
   "execution_count": 77,
   "id": "37823964",
   "metadata": {},
   "outputs": [
    {
     "name": "stdout",
     "output_type": "stream",
     "text": [
      "{'valor_leitura': 80.58, 'tipo_dado': {'nome': 'Harmônicas', 'descricao': 'Valor da harmônica obtido pelo sensor.'}, 'sensor': {'nome': 'AcuRev 2100 Multi-Circuit', 'fabricante': 'AccuEnergy', 'datasheet': 'https://www.accuenergy.com/wp-content/uploads/AcuRev-2100-Multi-Circuit-Submeter-Datasheet.pdf'}}\n",
      "4.17\n"
     ]
    }
   ],
   "source": [
    "noise = 4\n",
    "\n",
    "print(get_harmonics(noise))\n",
    "print(get_harmonics(noise)[\"valor_leitura\"])"
   ]
  }
 ],
 "metadata": {
  "kernelspec": {
   "display_name": "Python 3",
   "language": "python",
   "name": "python3"
  },
  "language_info": {
   "codemirror_mode": {
    "name": "ipython",
    "version": 3
   },
   "file_extension": ".py",
   "mimetype": "text/x-python",
   "name": "python",
   "nbconvert_exporter": "python",
   "pygments_lexer": "ipython3",
   "version": "3.12.0"
  }
 },
 "nbformat": 4,
 "nbformat_minor": 5
}
