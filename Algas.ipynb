{
  "cells": [
    {
      "cell_type": "markdown",
      "metadata": {
        "id": "aJowNNtFTKHM"
      },
      "source": [
        "### Importando Bibliotecas"
      ]
    },
    {
      "cell_type": "code",
      "execution_count": null,
      "metadata": {
        "id": "Zl1Jwn5KTAay"
      },
      "outputs": [],
      "source": [
        "import time\n",
        "import sys\n",
        "import math\n",
        "import psutil as ps\n",
        "import matplotlib.pyplot as plt  # type: ignore\n",
        "import numpy as np\n",
        "import mysql.connector\n",
        "from datetime import datetime"
      ]
    },
    {
      "cell_type": "code",
      "execution_count": null,
      "metadata": {},
      "outputs": [],
      "source": [
        "mydb = mysql.connector.connect(\n",
        "  host=\"localhost\",\n",
        "  user=\"root\",\n",
        "  password=\"urubu100\",\n",
        "  database=\"algas\"\n",
        ")\n",
        "\n",
        "print(mydb)\n",
        "\n",
        "mycursor = mydb.cursor()\n",
        "sql = \"INSERT INTO dados (valor) VALUES (%s)\""
      ]
    },
    {
      "cell_type": "markdown",
      "metadata": {},
      "source": [
        "Crie a tabela:\n",
        "\n",
        "CREATE TABLE dados(\n",
        " id int auto_increment primary key,\n",
        " valor decimal(10,2)\n",
        ");"
      ]
    },
    {
      "cell_type": "markdown",
      "metadata": {
        "id": "gOjLMPe8VPSM"
      },
      "source": [
        "### Definindo Função"
      ]
    },
    {
      "cell_type": "code",
      "execution_count": null,
      "metadata": {
        "id": "JsV5pMaDTYeN"
      },
      "outputs": [],
      "source": [
        "def get_transactions(start, stop, step):\n",
        "    transactions = []\n",
        "    for i in range(start, stop, step):\n",
        "        transactions.append(i)\n",
        "    return transactions"
      ]
    },
    {
      "cell_type": "code",
      "execution_count": null,
      "metadata": {
        "id": "EsUEbA5-H8Rp"
      },
      "outputs": [],
      "source": [
        "def getTime():\n",
        "    agora = time.time()\n",
        "    hoje_meia_noite = datetime.combine(datetime.today(), datetime.min.time())\n",
        "    meia_noite_timestamp = time.mktime(hoje_meia_noite.timetuple())\n",
        "    diferenca_segundos = agora - meia_noite_timestamp\n",
        "    diferenca_minutos = diferenca_segundos / 60\n",
        "\n",
        "    return diferenca_minutos\n"
      ]
    },
    {
      "cell_type": "code",
      "execution_count": null,
      "metadata": {
        "id": "jhIV3GMhmQi5"
      },
      "outputs": [],
      "source": [
        "def run(start, stop, step):\n",
        "    transactions = get_transactions(start, stop, step)\n",
        "    arr = []\n",
        "    arrTime = {\n",
        "        'inicio': [],\n",
        "        'inFirstFor': [],\n",
        "        'inSecondFor': [],\n",
        "        'afterAppend': []\n",
        "    }\n",
        "    usages = {\n",
        "        'cpu': [],\n",
        "        'memory': []\n",
        "    }\n",
        "    inicio = getTime()\n",
        "    arrTime['inicio'].append(inicio)\n",
        "    for transaction in transactions:\n",
        "        arrTime['inFirstFor'].append(getTime())\n",
        "        val = (math.floor(getTime() * 100) / 100,)\n",
        "        mycursor.execute(sql, val)\n",
        "        mydb.commit()\n",
        "        for i in range(1, transaction):\n",
        "            inSecondFor = getTime()\n",
        "            arrTime['inSecondFor'].append(inSecondFor)\n",
        "            arr.append(str(i)*(i%1000))\n",
        "            afterAppend = getTime()\n",
        "            arrTime['afterAppend'].append(afterAppend)\n",
        "            usages['cpu'].append(ps.cpu_percent())\n",
        "            usages['memory'].append(ps.virtual_memory().percent)\n",
        "            val = (math.floor(getTime() * 100) / 100,)\n",
        "            mycursor.execute(sql, val)\n",
        "\n",
        "        print(f'Transação {transaction} encerrada!')\n",
        "\n",
        "    return {\n",
        "        'dados': arr,\n",
        "        'times': arrTime,\n",
        "        'usages': usages\n",
        "    }"
      ]
    },
    {
      "cell_type": "markdown",
      "metadata": {
        "id": "V6qbzBa9miYa"
      },
      "source": [
        "### Range (10, 60, 10)"
      ]
    },
    {
      "cell_type": "code",
      "execution_count": null,
      "metadata": {
        "colab": {
          "base_uri": "https://localhost:8080/"
        },
        "id": "wy1XjwNamk5g",
        "outputId": "7333759f-822e-42ba-9280-f0750a63a1f1"
      },
      "outputs": [],
      "source": [
        "result = run(10, 60, 10)\n",
        "\n",
        "print(result['times'])\n",
        "\n",
        "print(\"Inicio: \" + str(result['times']['inicio'][0]))\n",
        "plot(result['times']['inFirstFor'])\n",
        "plot(result['times']['inSecondFor'])\n",
        "plot(result['times']['afterAppend'])\n",
        "plot(result['usages']['cpu'])\n",
        "plot(result['usages']['memory'])"
      ]
    },
    {
      "cell_type": "code",
      "execution_count": null,
      "metadata": {
        "colab": {
          "base_uri": "https://localhost:8080/"
        },
        "id": "zWCdVVvNaXaq",
        "outputId": "87c2385c-4788-45e1-b60f-6ba5b61c8165"
      },
      "outputs": [],
      "source": [
        "print(time.time())"
      ]
    },
    {
      "cell_type": "markdown",
      "metadata": {
        "id": "Afo-6CRKmocW"
      },
      "source": [
        "### Range (100, 600, 100)"
      ]
    },
    {
      "cell_type": "code",
      "execution_count": null,
      "metadata": {
        "colab": {
          "base_uri": "https://localhost:8080/",
          "height": 1000
        },
        "id": "gV0haqKcmtUm",
        "outputId": "85a087bb-f049-4cf1-afbd-a6baae67392d"
      },
      "outputs": [],
      "source": [
        "result = run(100, 600, 100)\n",
        "\n",
        "print(result['times'])\n",
        "\n",
        "print(\"Inicio: \" + str(result['times']['inicio'][0]))\n",
        "plot(result['times']['inFirstFor'])\n",
        "plot(result['times']['inSecondFor'])\n",
        "plot(result['times']['afterAppend'])\n",
        "plot(result['usages']['cpu'])\n",
        "plot(result['usages']['memory'])"
      ]
    },
    {
      "cell_type": "markdown",
      "metadata": {
        "id": "Yb9_rON7mvs9"
      },
      "source": [
        "### Range (1000, 6000, 1000)"
      ]
    },
    {
      "cell_type": "code",
      "execution_count": null,
      "metadata": {
        "colab": {
          "base_uri": "https://localhost:8080/",
          "height": 1000
        },
        "id": "EjDeTKMHmybe",
        "outputId": "08a36767-4400-4be7-fec6-bb3468fe1385"
      },
      "outputs": [],
      "source": [
        "result = run(1_000, 6_000, 1_000)\n",
        "\n",
        "print(result['times'])\n",
        "\n",
        "print(\"Inicio: \" + str(result['times']['inicio'][0]))\n",
        "plot(result['times']['inFirstFor'])\n",
        "plot(result['times']['inSecondFor'])\n",
        "plot(result['times']['afterAppend'])\n",
        "plot(result['usages']['cpu'])\n",
        "plot(result['usages']['memory'])"
      ]
    },
    {
      "cell_type": "markdown",
      "metadata": {
        "id": "BEFkDCnEm0o8"
      },
      "source": [
        "### Range (100000, 600000, 100000)"
      ]
    },
    {
      "cell_type": "code",
      "execution_count": null,
      "metadata": {
        "id": "3znA8j67m9B2"
      },
      "outputs": [],
      "source": [
        "result = run(100_000, 600_000, 100_000)\n",
        "\n",
        "print(result['times'])\n",
        "\n",
        "print(\"Inicio: \" + str(result['times']['inicio'][0]))\n",
        "plot(result['times']['inFirstFor'])\n",
        "plot(result['times']['inSecondFor'])\n",
        "plot(result['times']['afterAppend'])\n",
        "plot(result['usages']['cpu'])\n",
        "plot(result['usages']['memory'])"
      ]
    },
    {
      "cell_type": "markdown",
      "metadata": {
        "id": "9aw4dKXYnFCa"
      },
      "source": [
        "### Range (1000000, 6000000, 1000000)"
      ]
    },
    {
      "cell_type": "code",
      "execution_count": null,
      "metadata": {
        "id": "l27evzb2nM9O"
      },
      "outputs": [],
      "source": [
        "result = run(1_000_000, 6_000_000, 1_000_000)\n",
        "\n",
        "print(result['times'])\n",
        "\n",
        "print(\"Inicio: \" + str(result['times']['inicio'][0]))\n",
        "plot(result['times']['inFirstFor'])\n",
        "plot(result['times']['inSecondFor'])\n",
        "plot(result['times']['afterAppend'])\n",
        "plot(result['usages']['cpu'])\n",
        "plot(result['usages']['memory'])"
      ]
    },
    {
      "cell_type": "markdown",
      "metadata": {
        "id": "Sw8OhaWamVy9"
      },
      "source": [
        "### Criando Graficos"
      ]
    },
    {
      "cell_type": "code",
      "execution_count": null,
      "metadata": {
        "id": "Qzsko9piZIEb"
      },
      "outputs": [],
      "source": [
        "def plot(data):\n",
        "  xpoints = np.array(list(range(0, len(data))))\n",
        "  ypoints = np.array(data)\n",
        "\n",
        "  plt.plot(xpoints, ypoints)\n",
        "  plt.show()"
      ]
    },
    {
      "cell_type": "code",
      "execution_count": null,
      "metadata": {
        "id": "NEbf0Jn5Th-8"
      },
      "outputs": [],
      "source": [
        "dados = run(100000, 600000, 100000)\n",
        "plot(dados)\n"
      ]
    },
    {
      "cell_type": "code",
      "execution_count": null,
      "metadata": {
        "id": "ETjT6tBuadOu"
      },
      "outputs": [],
      "source": []
    }
  ],
  "metadata": {
    "colab": {
      "provenance": []
    },
    "kernelspec": {
      "display_name": "Python 3",
      "name": "python3"
    },
    "language_info": {
      "codemirror_mode": {
        "name": "ipython",
        "version": 3
      },
      "file_extension": ".py",
      "mimetype": "text/x-python",
      "name": "python",
      "nbconvert_exporter": "python",
      "pygments_lexer": "ipython3",
      "version": "3.12.9"
    }
  },
  "nbformat": 4,
  "nbformat_minor": 0
}
